{
 "cells": [
  {
   "cell_type": "markdown",
   "id": "229bc000",
   "metadata": {},
   "source": [
    "# Managing Content in Texas A&M University's ArcGIS Online Environment\n",
    "\n",
    "## Table of Contents\n",
    "- [Section 1: Import necessary modules](#section-1-import-necessary-modules)\n",
    "- [Section 2: Connect to ArcGIS Online](#section-2-connect-to-arcgis-online)\n",
    "- [Section 3: Configuration Setup](#section-3-configuration-setup)\n",
    "- [Section 4: Identify Inactive Users](#section-4-identify-inactive-users)\n",
    "- [Section 5: Identify Flagged Content](#section-5-identify-flagged-content)\n",
    "- [Section 6: Remove Flagged Content](#section-6-remove-flagged-content)\n",
    "- [Section 7: Generate Cleanup Report](#section-7-generate-cleanup-report)\n",
    "- [Section 8: Main Function - Cleanup Execution](#section-8-main-function---cleanup-execution)\n"
   ]
  },
  {
   "cell_type": "markdown",
   "id": "51925af6",
   "metadata": {},
   "source": [
    "## Section 1: Import necessary modules\n",
    "In this section, the essential Python libraries that are needed to complete the ArcGIS Online environment cleanup are imported:\n",
    "\n",
    "- `arcgis.gis` - Enables interaction with ArcGIS Online.\n",
    "- `datetime`, `timedelta` - Help calculate dates and time cutoffs.\n",
    "- `pandas` - Used to organize and export user and content information into structured tables.\n",
    "- `getpass` - Safely fetches system or ArcGIS username for logging purposes.\n",
    "\n",
    "Each of these libraries plays a critical role in interacting with the data, time management, and result export."
   ]
  },
  {
   "cell_type": "code",
   "execution_count": 1,
   "id": "efc0cc0e",
   "metadata": {},
   "outputs": [],
   "source": [
    "from arcgis.gis import GIS\n",
    "from datetime import datetime, timedelta\n",
    "import pandas as pd\n",
    "import getpass"
   ]
  },
  {
   "cell_type": "markdown",
   "id": "379a9c55",
   "metadata": {},
   "source": [
    "## Section 2: Connect to ArcGIS Online\n",
    "Here, a live connection to the ArcGIS Online organization is created. \n",
    "The **Organization ID** is retrieved which helps restrict searches and identify the **executor**, which is the person running the script.\n",
    "\n",
    "Connecting securely also ensures that all operations target the correct environment and that actions like content deletion have proper authorization."
   ]
  },
  {
   "cell_type": "code",
   "execution_count": null,
   "id": "4664d39d",
   "metadata": {},
   "outputs": [],
   "source": [
    "gis = GIS(\"home\")\n",
    "org_id = gis.properties.id\n",
    "executor = gis.users.me.username if gis.users.me else getpass.getuser()\n",
    "print(f\"Connected to organization: {gis.properties.name} as {executor}\")"
   ]
  },
  {
   "cell_type": "markdown",
   "id": "5e4aded7",
   "metadata": {},
   "source": [
    "## Section 3: Configuration Setup\n",
    "Here, the time-based thresholds that define 'inactive' users and 'unused' content are configured.\n",
    "\n",
    "- `YEARS_UNVIEWED` → Content not viewed in this many years is considered not used.\n",
    "- `YEARS_INACTIVE` → Users inactive this long are flagged.\n",
    "- `YEARS_UNMODIFIED` → Items not updated in this long are also flagged.\n",
    "\n",
    "Cutoff dates are calculated relative to the current date. A **timestamp** is generated to use in filenames to keep outputs organized and unique."
   ]
  },
  {
   "cell_type": "code",
   "execution_count": null,
   "id": "edcd63fa",
   "metadata": {},
   "outputs": [],
   "source": [
    "YEARS_UNVIEWED = 1\n",
    "YEARS_INACTIVE = 4\n",
    "YEARS_UNMODIFIED = 8\n",
    "TODAY = datetime.now()\n",
    "CUTOFF_VIEWED = TODAY - timedelta(days=YEARS_UNVIEWED * 365)\n",
    "CUTOFF_LOGIN = TODAY - timedelta(days=YEARS_INACTIVE * 365)\n",
    "CUTOFF_MODIFIED = TODAY - timedelta(days=YEARS_UNMODIFIED * 365)\n",
    "TIMESTAMP = TODAY.strftime('%Y%m%d_%H%M%S')"
   ]
  },
  {
   "cell_type": "markdown",
   "id": "c2d869a7",
   "metadata": {},
   "source": [
    "## Section 4: Identify Inactive Users\n",
    "This function scans users in the organization and identifies those who have not logged in recently.\n",
    "\n",
    "- Users who have never logged in are treated as very old accounts.\n",
    "- The login timestamps are converted to readable dates.\n",
    "- Users who have been inactive beyond the established threshold are added to a DataFrame and saved to a CSV file.\n",
    "\n",
    "Finding inactive users allows us to identifying unused content and improving platform management."
   ]
  },
  {
   "cell_type": "code",
   "execution_count": null,
   "id": "319b9c22",
   "metadata": {},
   "outputs": [],
   "source": [
    "def getInactiveUsers():\n",
    "    all_users = gis.users.search(max_users=1000, sort_field='lastLogin', sort_order='desc')\n",
    "    inactive_users = []\n",
    "    for user in all_users:\n",
    "        try:\n",
    "            if user.lastLogin == 0:\n",
    "                last_login_date = datetime(1970, 1, 1)\n",
    "                last_login_str = \"Never\"\n",
    "            else:\n",
    "                last_login_date = datetime.utcfromtimestamp(user.lastLogin / 1000)\n",
    "                last_login_str = last_login_date.strftime('%Y-%m-%d')\n",
    "            if last_login_date < CUTOFF_LOGIN:\n",
    "                inactive_users.append({\n",
    "                    \"Username\": user.username,\n",
    "                    \"Full Name\": getattr(user, \"fullName\", \"N/A\"),\n",
    "                    \"Email\": getattr(user, \"email\", \"N/A\"),\n",
    "                    \"Last Login\": last_login_str,\n",
    "                    \"_SortKey\": last_login_date\n",
    "                })\n",
    "        except Exception as e:\n",
    "            print(f\"Error processing user {user.username}: {e}\")\n",
    "    inactive_users.sort(key=lambda x: x[\"_SortKey\"])\n",
    "    for u in inactive_users:\n",
    "        del u[\"_SortKey\"]\n",
    "    df_inactive = pd.DataFrame(inactive_users)\n",
    "    filename = f\"inactive_users_{TIMESTAMP}.csv\"\n",
    "    df_inactive.to_csv(filename, index=False)\n",
    "    print(f\"Inactive users exported: {filename}\")\n",
    "    return df_inactive[\"Username\"].tolist(), df_inactive"
   ]
  },
  {
   "cell_type": "markdown",
   "id": "1b879b47",
   "metadata": {},
   "source": [
    "## Section 5: Identify Flagged Content\n",
    "Content that is owned by inactive users is searched through and the metadata is analyzed:\n",
    "\n",
    "- **Last Modified** → The last time the item was updated.\n",
    "- **Last Viewed** → The last time the item was accessed.\n",
    "\n",
    "Content that has not been modified or viewed in a long time is considered redundant and flagged.\n",
    "This ensures we prioritize cleaning up only outdated materials without touching recent or active files."
   ]
  },
  {
   "cell_type": "code",
   "execution_count": null,
   "id": "7173a496",
   "metadata": {},
   "outputs": [],
   "source": [
    "def getFlaggedContent(usernames):\n",
    "    flagged_content = []\n",
    "    for username in usernames:\n",
    "        try:\n",
    "            user_content = gis.content.search(query=f\"owner:{username} AND orgid:{org_id}\", max_items=100)\n",
    "            for item in user_content:\n",
    "                modified_date = datetime.utcfromtimestamp(item.modified / 1000)\n",
    "                if hasattr(item, \"lastViewed\") and item.lastViewed:\n",
    "                    last_viewed_date = datetime.utcfromtimestamp(item.lastViewed / 1000)\n",
    "                else:\n",
    "                    last_viewed_date = datetime(1970, 1, 1)\n",
    "                is_unmodified = modified_date < CUTOFF_MODIFIED\n",
    "                is_unviewed = last_viewed_date < CUTOFF_VIEWED\n",
    "                if is_unmodified and is_unviewed:\n",
    "                    reason = \"unmodified & unviewed\"\n",
    "                elif is_unmodified:\n",
    "                    reason = \"unmodified\"\n",
    "                elif is_unviewed:\n",
    "                    reason = \"unviewed\"\n",
    "                else:\n",
    "                    continue\n",
    "                flagged_content.append({\n",
    "                    \"Title\": item.title,\n",
    "                    \"Owner\": item.owner,\n",
    "                    \"Item Type\": item.type,\n",
    "                    \"Item ID\": item.id,\n",
    "                    \"Last Modified\": modified_date.strftime('%Y-%m-%d'),\n",
    "                    \"Last Viewed\": last_viewed_date.strftime('%Y-%m-%d'),\n",
    "                    \"URL\": item.homepage if hasattr(item, 'homepage') else f\"https://www.arcgis.com/home/item.html?id={item.id}\",\n",
    "                    \"Reason\": reason\n",
    "                })\n",
    "        except Exception as e:\n",
    "            print(f\"Error processing content for user {username}: {e}\")\n",
    "    df_flagged = pd.DataFrame(flagged_content)\n",
    "    if not df_flagged.empty:\n",
    "        df_flagged[\"Last Modified\"] = pd.to_datetime(df_flagged[\"Last Modified\"])\n",
    "        df_flagged[\"Last Viewed\"] = pd.to_datetime(df_flagged[\"Last Viewed\"])\n",
    "        df_flagged.sort_values(by=\"Last Modified\", inplace=True)\n",
    "        filename = f\"flagged_items_{TIMESTAMP}.csv\"\n",
    "        df_flagged.to_csv(filename, index=False)\n",
    "        print(f\"Flagged content exported: {filename}\")\n",
    "    return df_flagged"
   ]
  },
  {
   "cell_type": "markdown",
   "id": "9f3f4ca8",
   "metadata": {},
   "source": [
    "## Section 6: Remove Flagged Content\n",
    "Once flagged items are reviewed, they can be removed.\n",
    "\n",
    "- Each flagged item is removed by its unique Item ID.\n",
    "- Items successfully removed are tracked for reporting.\n",
    "- Errors during removal are logged.\n",
    "\n",
    "This phase is critical and must be executed carefully to prevent accidental data loss."
   ]
  },
  {
   "cell_type": "code",
   "execution_count": null,
   "id": "0e1b88ff",
   "metadata": {},
   "outputs": [],
   "source": [
    "def removeFlaggedContent(df_flagged):\n",
    "    removed = []\n",
    "    for _, row in df_flagged.iterrows():\n",
    "        try:\n",
    "            item = gis.content.get(row[\"Item ID\"])\n",
    "            item.delete()\n",
    "            removed.append(row)\n",
    "            print(f\"Removed: {row['Title']} (ID: {row['Item ID']})\")\n",
    "        except Exception as e:\n",
    "            print(f\"Failed to remove {row['Item ID']}: {e}\")\n",
    "    return pd.DataFrame(removed)"
   ]
  },
  {
   "cell_type": "markdown",
   "id": "c2e53629",
   "metadata": {},
   "source": [
    "## Section 7: Generate Cleanup Report\n",
    "After the scanning or removal phase, a report is generated summarizing:\n",
    "\n",
    "- How many users were inactive.\n",
    "- How many items were flagged.\n",
    "- How many items were successfully removed.\n",
    "\n",
    "This report provides transparency and accountability, especially useful for audits or future cleanups."
   ]
  },
  {
   "cell_type": "code",
   "execution_count": null,
   "id": "73c41225",
   "metadata": {},
   "outputs": [],
   "source": [
    "def generateReport(df_inactive, df_flagged, df_removed):\n",
    "    report_lines = [\n",
    "        f\"GIS Cleanup Report - {datetime.now().strftime('%Y-%m-%d %H:%M:%S')}\",\n",
    "        f\"Executor: {executor}\",\n",
    "        f\"Organization: {gis.properties.name}\",\n",
    "        f\"\\nSummary:\",\n",
    "        f\"Total Inactive Users: {len(df_inactive)}\",\n",
    "        f\"Total Flagged Content: {len(df_flagged)}\",\n",
    "        f\"Total Removed Items: {len(df_removed)}\",\n",
    "    ]\n",
    "    if not df_flagged.empty:\n",
    "        report_lines.append(\"\\nFlagged Content:\")\n",
    "        preview = (df_removed if not df_removed.empty else df_flagged).head(10)\n",
    "        for _, row in preview.iterrows():\n",
    "            report_lines.append(\n",
    "                f\"- {row.get('Title', 'N/A')} ({row.get('Item ID', 'N/A')}) by {row.get('Owner', 'N/A')} | Last Modified: {row.get('Last Modified', 'N/A')} | Last Viewed: {row.get('Last Viewed', 'N/A')}\"\n",
    "            )\n",
    "    else:\n",
    "        report_lines.append(\"\\nNo flagged content found.\")\n",
    "    report_filename = f\"cleanup_report_{TIMESTAMP}.txt\"\n",
    "    with open(report_filename, \"w\") as file:\n",
    "        file.write(\"\\n\".join(report_lines))\n",
    "    print(f\"Report generated: {report_filename}\")"
   ]
  },
  {
   "cell_type": "markdown",
   "id": "ccbb281f",
   "metadata": {},
   "source": [
    "## Section 8: Main Function - Cleanup Execution\n",
    "This final section ties everything together:\n",
    "\n",
    "- Identifies inactive users.\n",
    "- Flags content.\n",
    "- Gives the user three options: generate a report, cancel, or confirm removal.\n",
    "\n",
    "The user makes a choice whether to proceed. If removal is confirmed, removal is executed safely with a secondary user confirmation."
   ]
  },
  {
   "cell_type": "code",
   "execution_count": null,
   "id": "57e046d6",
   "metadata": {},
   "outputs": [],
   "source": [
    "inactive_usernames, df_inactive = getInactiveUsers()\n",
    "df_flagged = getFlaggedContent(inactive_usernames)\n",
    "\n",
    "if df_flagged.empty:\n",
    "    print(\"No flagged content found.\")\n",
    "else:\n",
    "    print(f\"{len(df_flagged)} items flagged for potential removal.\")\n",
    "    print(\"Options:\")\n",
    "    print(\"Type 'report' → Generate a report of flagged items\")\n",
    "    print(\"Type 'cancel' → Exit without removing anything\")\n",
    "    print(\"Type 'confirm' → Proceed to removal of flagged items\")\n",
    "\n",
    "    choice = input(\"Enter your choice: \").strip().lower()\n",
    "\n",
    "    if choice == \"report\":\n",
    "        generateReport(df_inactive, df_flagged, pd.DataFrame())\n",
    "    elif choice == \"cancel\":\n",
    "        print(\"Exiting without changes.\")\n",
    "    elif choice == \"confirm\":\n",
    "        confirm = input(\"Are you sure you want to remove flagged items? (yes/no): \").strip().lower()\n",
    "        if confirm == \"yes\":\n",
    "            df_removed = removeFlaggedContent(df_flagged)\n",
    "            generateReport(df_inactive, df_flagged, df_removed)\n",
    "        else:\n",
    "            print(\"Exiting without changes.\")\n",
    "            generateReport(df_inactive, df_flagged, pd.DataFrame())\n",
    "    else:\n",
    "        print(\"Invalid choice. No actions taken.\")"
   ]
  }
 ],
 "metadata": {
  "kernelspec": {
   "display_name": "Python 3",
   "language": "python",
   "name": "python3"
  },
  "language_info": {
   "codemirror_mode": {
    "name": "ipython",
    "version": 3
   },
   "file_extension": ".py",
   "mimetype": "text/x-python",
   "name": "python",
   "nbconvert_exporter": "python",
   "pygments_lexer": "ipython3",
   "version": "3.11.10"
  }
 },
 "nbformat": 4,
 "nbformat_minor": 5
}
